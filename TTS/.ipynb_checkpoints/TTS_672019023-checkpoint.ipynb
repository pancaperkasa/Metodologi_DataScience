{
 "cells": [
  {
   "cell_type": "markdown",
   "metadata": {
    "id": "Ypvu1UPjV5om"
   },
   "source": [
    "# **Petunjuk TTS**\n",
    "\n",
    "Silakan simpan file ke dalam bentuk **TTS_NIM.ipynb**. Tuliskan koding untuk dapat menampilkan hasil seperti yang diminta. Setelah selesai mengerjakan, silakan unggah ke GClass. Jangan sampai terlambat ya...keterlambatan mengakibatkan pengurangan nilai TTS.\n",
    "\n",
    "Have fun!"
   ]
  },
  {
   "cell_type": "markdown",
   "metadata": {
    "id": "IoFuMCW8F-44"
   },
   "source": [
    "### **1. Import Libraries**"
   ]
  },
  {
   "cell_type": "markdown",
   "metadata": {},
   "source": [
    "# NIM : 672019023\n",
    "\n",
    "# Nama : Panca Rizki Perkasa"
   ]
  },
  {
   "cell_type": "code",
   "execution_count": 1,
   "metadata": {},
   "outputs": [
    {
     "name": "stdout",
     "output_type": "stream",
     "text": [
      "Requirement already satisfied: missingno in c:\\users\\rizky\\appdata\\local\\programs\\python\\python310\\lib\\site-packages (0.5.1)Note: you may need to restart the kernel to use updated packages.\n",
      "Requirement already satisfied: matplotlib in c:\\users\\rizky\\appdata\\local\\programs\\python\\python310\\lib\\site-packages (from missingno) (3.5.0)\n",
      "Requirement already satisfied: scipy in c:\\users\\rizky\\appdata\\local\\programs\\python\\python310\\lib\\site-packages (from missingno) (1.8.0)\n",
      "\n",
      "Requirement already satisfied: seaborn in c:\\users\\rizky\\appdata\\local\\programs\\python\\python310\\lib\\site-packages (from missingno) (0.11.2)\n",
      "Requirement already satisfied: numpy in c:\\users\\rizky\\appdata\\local\\programs\\python\\python310\\lib\\site-packages (from missingno) (1.21.4)\n",
      "Requirement already satisfied: pillow>=6.2.0 in c:\\users\\rizky\\appdata\\local\\programs\\python\\python310\\lib\\site-packages (from matplotlib->missingno) (8.4.0)\n",
      "Requirement already satisfied: pyparsing>=2.2.1 in c:\\users\\rizky\\appdata\\local\\programs\\python\\python310\\lib\\site-packages (from matplotlib->missingno) (3.0.6)\n",
      "Requirement already satisfied: cycler>=0.10 in c:\\users\\rizky\\appdata\\local\\programs\\python\\python310\\lib\\site-packages (from matplotlib->missingno) (0.11.0)\n",
      "Requirement already satisfied: python-dateutil>=2.7 in c:\\users\\rizky\\appdata\\local\\programs\\python\\python310\\lib\\site-packages (from matplotlib->missingno) (2.8.2)\n",
      "Requirement already satisfied: setuptools-scm>=4 in c:\\users\\rizky\\appdata\\local\\programs\\python\\python310\\lib\\site-packages (from matplotlib->missingno) (6.3.2)\n",
      "Requirement already satisfied: packaging>=20.0 in c:\\users\\rizky\\appdata\\local\\programs\\python\\python310\\lib\\site-packages (from matplotlib->missingno) (21.3)\n",
      "Requirement already satisfied: kiwisolver>=1.0.1 in c:\\users\\rizky\\appdata\\local\\programs\\python\\python310\\lib\\site-packages (from matplotlib->missingno) (1.3.2)\n",
      "Requirement already satisfied: fonttools>=4.22.0 in c:\\users\\rizky\\appdata\\local\\programs\\python\\python310\\lib\\site-packages (from matplotlib->missingno) (4.28.2)\n",
      "Requirement already satisfied: pandas>=0.23 in c:\\users\\rizky\\appdata\\local\\programs\\python\\python310\\lib\\site-packages (from seaborn->missingno) (1.3.4)\n",
      "Requirement already satisfied: pytz>=2017.3 in c:\\users\\rizky\\appdata\\local\\programs\\python\\python310\\lib\\site-packages (from pandas>=0.23->seaborn->missingno) (2021.3)\n",
      "Requirement already satisfied: six>=1.5 in c:\\users\\rizky\\appdata\\local\\programs\\python\\python310\\lib\\site-packages (from python-dateutil>=2.7->matplotlib->missingno) (1.16.0)\n",
      "Requirement already satisfied: setuptools in c:\\users\\rizky\\appdata\\local\\programs\\python\\python310\\lib\\site-packages (from setuptools-scm>=4->matplotlib->missingno) (58.1.0)\n",
      "Requirement already satisfied: tomli>=1.0.0 in c:\\users\\rizky\\appdata\\local\\programs\\python\\python310\\lib\\site-packages (from setuptools-scm>=4->matplotlib->missingno) (1.2.2)\n"
     ]
    }
   ],
   "source": [
    "pip install missingno"
   ]
  },
  {
   "cell_type": "code",
   "execution_count": 2,
   "metadata": {
    "id": "CYwVqp1MFwpB"
   },
   "outputs": [],
   "source": [
    "# Silakan import librari yang kalian butuhkan (pandas, numpy, matplotlib, seaborn, dan missingno)\n",
    "\n",
    "import pandas as pd\n",
    "import numpy as np\n",
    "import matplotlib.pyplot as plt\n",
    "import seaborn as sns\n",
    "import missingno as msno\n"
   ]
  },
  {
   "cell_type": "code",
   "execution_count": 3,
   "metadata": {
    "id": "cnLXMZLUNZln"
   },
   "outputs": [],
   "source": [
    "# Ambil dataset dari (https://github.com/adelnehme/python-for-spreadsheet-users-webinar/blob/master/datasets/airbnb.csv?raw=true) dan simpan dengan nama variabel data\n",
    "\n",
    "data = pd.read_csv(\"airbnb.csv\")"
   ]
  },
  {
   "cell_type": "code",
   "execution_count": 4,
   "metadata": {
    "colab": {
     "base_uri": "https://localhost:8080/",
     "height": 531
    },
    "id": "QBdiE3MBNgio",
    "outputId": "f020f93d-07af-46d4-c767-e0b329b53c84"
   },
   "outputs": [
    {
     "data": {
      "text/html": [
       "<div>\n",
       "<style scoped>\n",
       "    .dataframe tbody tr th:only-of-type {\n",
       "        vertical-align: middle;\n",
       "    }\n",
       "\n",
       "    .dataframe tbody tr th {\n",
       "        vertical-align: top;\n",
       "    }\n",
       "\n",
       "    .dataframe thead th {\n",
       "        text-align: right;\n",
       "    }\n",
       "</style>\n",
       "<table border=\"1\" class=\"dataframe\">\n",
       "  <thead>\n",
       "    <tr style=\"text-align: right;\">\n",
       "      <th></th>\n",
       "      <th>Unnamed: 0</th>\n",
       "      <th>listing_id</th>\n",
       "      <th>name</th>\n",
       "      <th>host_id</th>\n",
       "      <th>host_name</th>\n",
       "      <th>neighbourhood_full</th>\n",
       "      <th>coordinates</th>\n",
       "      <th>room_type</th>\n",
       "      <th>price</th>\n",
       "      <th>number_of_reviews</th>\n",
       "      <th>last_review</th>\n",
       "      <th>reviews_per_month</th>\n",
       "      <th>availability_365</th>\n",
       "      <th>rating</th>\n",
       "      <th>number_of_stays</th>\n",
       "      <th>5_stars</th>\n",
       "      <th>listing_added</th>\n",
       "    </tr>\n",
       "  </thead>\n",
       "  <tbody>\n",
       "    <tr>\n",
       "      <th>0</th>\n",
       "      <td>0</td>\n",
       "      <td>13740704</td>\n",
       "      <td>Cozy,budget friendly, cable inc, private entra...</td>\n",
       "      <td>20583125</td>\n",
       "      <td>Michel</td>\n",
       "      <td>Brooklyn, Flatlands</td>\n",
       "      <td>(40.63222, -73.93398)</td>\n",
       "      <td>Private room</td>\n",
       "      <td>45$</td>\n",
       "      <td>10</td>\n",
       "      <td>2018-12-12</td>\n",
       "      <td>0.70</td>\n",
       "      <td>85</td>\n",
       "      <td>4.100954</td>\n",
       "      <td>12.0</td>\n",
       "      <td>0.609432</td>\n",
       "      <td>2018-06-08</td>\n",
       "    </tr>\n",
       "    <tr>\n",
       "      <th>1</th>\n",
       "      <td>1</td>\n",
       "      <td>22005115</td>\n",
       "      <td>Two floor apartment near Central Park</td>\n",
       "      <td>82746113</td>\n",
       "      <td>Cecilia</td>\n",
       "      <td>Manhattan, Upper West Side</td>\n",
       "      <td>(40.78761, -73.96862)</td>\n",
       "      <td>Entire home/apt</td>\n",
       "      <td>135$</td>\n",
       "      <td>1</td>\n",
       "      <td>2019-06-30</td>\n",
       "      <td>1.00</td>\n",
       "      <td>145</td>\n",
       "      <td>3.367600</td>\n",
       "      <td>1.2</td>\n",
       "      <td>0.746135</td>\n",
       "      <td>2018-12-25</td>\n",
       "    </tr>\n",
       "    <tr>\n",
       "      <th>2</th>\n",
       "      <td>2</td>\n",
       "      <td>21667615</td>\n",
       "      <td>Beautiful 1BR in Brooklyn Heights</td>\n",
       "      <td>78251</td>\n",
       "      <td>Leslie</td>\n",
       "      <td>Brooklyn, Brooklyn Heights</td>\n",
       "      <td>(40.7007, -73.99517)</td>\n",
       "      <td>Entire home/apt</td>\n",
       "      <td>150$</td>\n",
       "      <td>0</td>\n",
       "      <td>NaN</td>\n",
       "      <td>NaN</td>\n",
       "      <td>65</td>\n",
       "      <td>NaN</td>\n",
       "      <td>NaN</td>\n",
       "      <td>NaN</td>\n",
       "      <td>2018-08-15</td>\n",
       "    </tr>\n",
       "    <tr>\n",
       "      <th>3</th>\n",
       "      <td>3</td>\n",
       "      <td>6425850</td>\n",
       "      <td>Spacious, charming studio</td>\n",
       "      <td>32715865</td>\n",
       "      <td>Yelena</td>\n",
       "      <td>Manhattan, Upper West Side</td>\n",
       "      <td>(40.79169, -73.97498)</td>\n",
       "      <td>Entire home/apt</td>\n",
       "      <td>86$</td>\n",
       "      <td>5</td>\n",
       "      <td>2017-09-23</td>\n",
       "      <td>0.13</td>\n",
       "      <td>0</td>\n",
       "      <td>4.763203</td>\n",
       "      <td>6.0</td>\n",
       "      <td>0.769947</td>\n",
       "      <td>2017-03-20</td>\n",
       "    </tr>\n",
       "    <tr>\n",
       "      <th>4</th>\n",
       "      <td>4</td>\n",
       "      <td>22986519</td>\n",
       "      <td>Bedroom on the lively Lower East Side</td>\n",
       "      <td>154262349</td>\n",
       "      <td>Brooke</td>\n",
       "      <td>Manhattan, Lower East Side</td>\n",
       "      <td>(40.71884, -73.98354)</td>\n",
       "      <td>Private room</td>\n",
       "      <td>160$</td>\n",
       "      <td>23</td>\n",
       "      <td>2019-06-12</td>\n",
       "      <td>2.29</td>\n",
       "      <td>102</td>\n",
       "      <td>3.822591</td>\n",
       "      <td>27.6</td>\n",
       "      <td>0.649383</td>\n",
       "      <td>2020-10-23</td>\n",
       "    </tr>\n",
       "  </tbody>\n",
       "</table>\n",
       "</div>"
      ],
      "text/plain": [
       "   Unnamed: 0  listing_id                                               name  \\\n",
       "0           0    13740704  Cozy,budget friendly, cable inc, private entra...   \n",
       "1           1    22005115              Two floor apartment near Central Park   \n",
       "2           2    21667615                  Beautiful 1BR in Brooklyn Heights   \n",
       "3           3     6425850                          Spacious, charming studio   \n",
       "4           4    22986519              Bedroom on the lively Lower East Side   \n",
       "\n",
       "     host_id host_name          neighbourhood_full            coordinates  \\\n",
       "0   20583125    Michel         Brooklyn, Flatlands  (40.63222, -73.93398)   \n",
       "1   82746113   Cecilia  Manhattan, Upper West Side  (40.78761, -73.96862)   \n",
       "2      78251    Leslie  Brooklyn, Brooklyn Heights   (40.7007, -73.99517)   \n",
       "3   32715865    Yelena  Manhattan, Upper West Side  (40.79169, -73.97498)   \n",
       "4  154262349    Brooke  Manhattan, Lower East Side  (40.71884, -73.98354)   \n",
       "\n",
       "         room_type price  number_of_reviews last_review  reviews_per_month  \\\n",
       "0     Private room   45$                 10  2018-12-12               0.70   \n",
       "1  Entire home/apt  135$                  1  2019-06-30               1.00   \n",
       "2  Entire home/apt  150$                  0         NaN                NaN   \n",
       "3  Entire home/apt   86$                  5  2017-09-23               0.13   \n",
       "4     Private room  160$                 23  2019-06-12               2.29   \n",
       "\n",
       "   availability_365    rating  number_of_stays   5_stars listing_added  \n",
       "0                85  4.100954             12.0  0.609432    2018-06-08  \n",
       "1               145  3.367600              1.2  0.746135    2018-12-25  \n",
       "2                65       NaN              NaN       NaN    2018-08-15  \n",
       "3                 0  4.763203              6.0  0.769947    2017-03-20  \n",
       "4               102  3.822591             27.6  0.649383    2020-10-23  "
      ]
     },
     "execution_count": 4,
     "metadata": {},
     "output_type": "execute_result"
    }
   ],
   "source": [
    "# Lihat 5 data teratas pada DataFrame \"data\"\n",
    "\n",
    "data.head()"
   ]
  },
  {
   "cell_type": "code",
   "execution_count": 5,
   "metadata": {
    "colab": {
     "base_uri": "https://localhost:8080/"
    },
    "id": "BNE2SaGvNra3",
    "outputId": "5652c5eb-efe7-45d4-a19e-ba9892dc0e07"
   },
   "outputs": [
    {
     "data": {
      "text/plain": [
       "Unnamed: 0              int64\n",
       "listing_id              int64\n",
       "name                   object\n",
       "host_id                 int64\n",
       "host_name              object\n",
       "neighbourhood_full     object\n",
       "coordinates            object\n",
       "room_type              object\n",
       "price                  object\n",
       "number_of_reviews       int64\n",
       "last_review            object\n",
       "reviews_per_month     float64\n",
       "availability_365        int64\n",
       "rating                float64\n",
       "number_of_stays       float64\n",
       "5_stars               float64\n",
       "listing_added          object\n",
       "dtype: object"
      ]
     },
     "execution_count": 5,
     "metadata": {},
     "output_type": "execute_result"
    }
   ],
   "source": [
    "# Cek tipe data dalam \"data\"\n",
    "\n",
    "data.dtypes\n"
   ]
  },
  {
   "cell_type": "markdown",
   "metadata": {
    "id": "Tbe-8a0PQLt9"
   },
   "source": [
    "### **2. Membersihkan Data**"
   ]
  },
  {
   "cell_type": "markdown",
   "metadata": {
    "id": "E-3UvLG3QSuU"
   },
   "source": [
    "**Challenge 1**: Ganti `coordinates` dengan kolom `latitude` dan `longitude`"
   ]
  },
  {
   "cell_type": "code",
   "execution_count": 6,
   "metadata": {
    "colab": {
     "base_uri": "https://localhost:8080/"
    },
    "id": "MzyrK_11P1i3",
    "outputId": "c93bab4b-8f01-4263-c44d-4a3d3f9022d8"
   },
   "outputs": [
    {
     "name": "stderr",
     "output_type": "stream",
     "text": [
      "C:\\Users\\rizky\\AppData\\Local\\Temp/ipykernel_6316/865680591.py:3: FutureWarning: The default value of regex will change from True to False in a future version. In addition, single character regular expressions will *not* be treated as literal strings when regex=True.\n",
      "  data['coordinates'] = data['coordinates'].str.replace(\"(\",\"\")\n",
      "C:\\Users\\rizky\\AppData\\Local\\Temp/ipykernel_6316/865680591.py:5: FutureWarning: The default value of regex will change from True to False in a future version. In addition, single character regular expressions will *not* be treated as literal strings when regex=True.\n",
      "  data['coordinates'] = data['coordinates'].str.replace(\")\",\"\")\n"
     ]
    }
   ],
   "source": [
    "# Hapus tanda \"(\" dan \")\" dari kolom coordinates\n",
    "\n",
    "data['coordinates'] = data['coordinates'].str.replace(\"(\",\"\")\n",
    "data['coordinates'] = data['coordinates'].str.replace(\",\",\"\")\n",
    "data['coordinates'] = data['coordinates'].str.replace(\")\",\"\")\n"
   ]
  },
  {
   "cell_type": "code",
   "execution_count": 7,
   "metadata": {
    "colab": {
     "base_uri": "https://localhost:8080/"
    },
    "id": "1shmvP0-Yep9",
    "outputId": "86f1c4a1-aa75-43eb-9504-141e226cab65"
   },
   "outputs": [
    {
     "data": {
      "text/plain": [
       "0    40.63222 -73.93398\n",
       "1    40.78761 -73.96862\n",
       "2     40.7007 -73.99517\n",
       "3    40.79169 -73.97498\n",
       "4    40.71884 -73.98354\n",
       "Name: coordinates, dtype: object"
      ]
     },
     "execution_count": 7,
     "metadata": {},
     "output_type": "execute_result"
    }
   ],
   "source": [
    "# Cetak 5 data paling atas dari kolom coordinates\n",
    "\n",
    "data['coordinates'].head(5)"
   ]
  },
  {
   "cell_type": "code",
   "execution_count": 8,
   "metadata": {
    "colab": {
     "base_uri": "https://localhost:8080/",
     "height": 206
    },
    "id": "s2fRuKGIQxkm",
    "outputId": "3c7250ac-ccf2-4cef-a472-546b9c254809"
   },
   "outputs": [
    {
     "data": {
      "text/html": [
       "<div>\n",
       "<style scoped>\n",
       "    .dataframe tbody tr th:only-of-type {\n",
       "        vertical-align: middle;\n",
       "    }\n",
       "\n",
       "    .dataframe tbody tr th {\n",
       "        vertical-align: top;\n",
       "    }\n",
       "\n",
       "    .dataframe thead th {\n",
       "        text-align: right;\n",
       "    }\n",
       "</style>\n",
       "<table border=\"1\" class=\"dataframe\">\n",
       "  <thead>\n",
       "    <tr style=\"text-align: right;\">\n",
       "      <th></th>\n",
       "      <th>0</th>\n",
       "      <th>1</th>\n",
       "    </tr>\n",
       "  </thead>\n",
       "  <tbody>\n",
       "    <tr>\n",
       "      <th>0</th>\n",
       "      <td>40.63222</td>\n",
       "      <td>-73.93398</td>\n",
       "    </tr>\n",
       "    <tr>\n",
       "      <th>1</th>\n",
       "      <td>40.78761</td>\n",
       "      <td>-73.96862</td>\n",
       "    </tr>\n",
       "    <tr>\n",
       "      <th>2</th>\n",
       "      <td>40.7007</td>\n",
       "      <td>-73.99517</td>\n",
       "    </tr>\n",
       "    <tr>\n",
       "      <th>3</th>\n",
       "      <td>40.79169</td>\n",
       "      <td>-73.97498</td>\n",
       "    </tr>\n",
       "    <tr>\n",
       "      <th>4</th>\n",
       "      <td>40.71884</td>\n",
       "      <td>-73.98354</td>\n",
       "    </tr>\n",
       "  </tbody>\n",
       "</table>\n",
       "</div>"
      ],
      "text/plain": [
       "          0          1\n",
       "0  40.63222  -73.93398\n",
       "1  40.78761  -73.96862\n",
       "2   40.7007  -73.99517\n",
       "3  40.79169  -73.97498\n",
       "4  40.71884  -73.98354"
      ]
     },
     "execution_count": 8,
     "metadata": {},
     "output_type": "execute_result"
    }
   ],
   "source": [
    "# Lakukan split data di kolom coordinates, beri nama lat_long\n",
    "\n",
    "lat_long = data[\"coordinates\"].str.split(\" \", n = 1, expand = True)\n",
    "lat_long.head(5)"
   ]
  },
  {
   "cell_type": "code",
   "execution_count": 9,
   "metadata": {
    "id": "kQNz2paZQ1Sb"
   },
   "outputs": [],
   "source": [
    "# Buat supaya latitude berisi nilai lat_long[0] dan longitude berisi nilai lat_long[1]\n",
    "\n",
    "data[\"latitude\"]= lat_long[0]\n",
    "data[\"longitude\"]= lat_long[1]\n"
   ]
  },
  {
   "cell_type": "code",
   "execution_count": 10,
   "metadata": {
    "colab": {
     "base_uri": "https://localhost:8080/",
     "height": 531
    },
    "id": "E9yV57NFZb-g",
    "outputId": "0f8ea3d1-d811-449c-af8b-bbdaeddee2f2"
   },
   "outputs": [
    {
     "data": {
      "text/html": [
       "<div>\n",
       "<style scoped>\n",
       "    .dataframe tbody tr th:only-of-type {\n",
       "        vertical-align: middle;\n",
       "    }\n",
       "\n",
       "    .dataframe tbody tr th {\n",
       "        vertical-align: top;\n",
       "    }\n",
       "\n",
       "    .dataframe thead th {\n",
       "        text-align: right;\n",
       "    }\n",
       "</style>\n",
       "<table border=\"1\" class=\"dataframe\">\n",
       "  <thead>\n",
       "    <tr style=\"text-align: right;\">\n",
       "      <th></th>\n",
       "      <th>Unnamed: 0</th>\n",
       "      <th>listing_id</th>\n",
       "      <th>name</th>\n",
       "      <th>host_id</th>\n",
       "      <th>host_name</th>\n",
       "      <th>neighbourhood_full</th>\n",
       "      <th>coordinates</th>\n",
       "      <th>room_type</th>\n",
       "      <th>price</th>\n",
       "      <th>number_of_reviews</th>\n",
       "      <th>last_review</th>\n",
       "      <th>reviews_per_month</th>\n",
       "      <th>availability_365</th>\n",
       "      <th>rating</th>\n",
       "      <th>number_of_stays</th>\n",
       "      <th>5_stars</th>\n",
       "      <th>listing_added</th>\n",
       "      <th>latitude</th>\n",
       "      <th>longitude</th>\n",
       "    </tr>\n",
       "  </thead>\n",
       "  <tbody>\n",
       "    <tr>\n",
       "      <th>0</th>\n",
       "      <td>0</td>\n",
       "      <td>13740704</td>\n",
       "      <td>Cozy,budget friendly, cable inc, private entra...</td>\n",
       "      <td>20583125</td>\n",
       "      <td>Michel</td>\n",
       "      <td>Brooklyn, Flatlands</td>\n",
       "      <td>40.63222 -73.93398</td>\n",
       "      <td>Private room</td>\n",
       "      <td>45$</td>\n",
       "      <td>10</td>\n",
       "      <td>2018-12-12</td>\n",
       "      <td>0.70</td>\n",
       "      <td>85</td>\n",
       "      <td>4.100954</td>\n",
       "      <td>12.0</td>\n",
       "      <td>0.609432</td>\n",
       "      <td>2018-06-08</td>\n",
       "      <td>40.63222</td>\n",
       "      <td>-73.93398</td>\n",
       "    </tr>\n",
       "    <tr>\n",
       "      <th>1</th>\n",
       "      <td>1</td>\n",
       "      <td>22005115</td>\n",
       "      <td>Two floor apartment near Central Park</td>\n",
       "      <td>82746113</td>\n",
       "      <td>Cecilia</td>\n",
       "      <td>Manhattan, Upper West Side</td>\n",
       "      <td>40.78761 -73.96862</td>\n",
       "      <td>Entire home/apt</td>\n",
       "      <td>135$</td>\n",
       "      <td>1</td>\n",
       "      <td>2019-06-30</td>\n",
       "      <td>1.00</td>\n",
       "      <td>145</td>\n",
       "      <td>3.367600</td>\n",
       "      <td>1.2</td>\n",
       "      <td>0.746135</td>\n",
       "      <td>2018-12-25</td>\n",
       "      <td>40.78761</td>\n",
       "      <td>-73.96862</td>\n",
       "    </tr>\n",
       "    <tr>\n",
       "      <th>2</th>\n",
       "      <td>2</td>\n",
       "      <td>21667615</td>\n",
       "      <td>Beautiful 1BR in Brooklyn Heights</td>\n",
       "      <td>78251</td>\n",
       "      <td>Leslie</td>\n",
       "      <td>Brooklyn, Brooklyn Heights</td>\n",
       "      <td>40.7007 -73.99517</td>\n",
       "      <td>Entire home/apt</td>\n",
       "      <td>150$</td>\n",
       "      <td>0</td>\n",
       "      <td>NaN</td>\n",
       "      <td>NaN</td>\n",
       "      <td>65</td>\n",
       "      <td>NaN</td>\n",
       "      <td>NaN</td>\n",
       "      <td>NaN</td>\n",
       "      <td>2018-08-15</td>\n",
       "      <td>40.7007</td>\n",
       "      <td>-73.99517</td>\n",
       "    </tr>\n",
       "    <tr>\n",
       "      <th>3</th>\n",
       "      <td>3</td>\n",
       "      <td>6425850</td>\n",
       "      <td>Spacious, charming studio</td>\n",
       "      <td>32715865</td>\n",
       "      <td>Yelena</td>\n",
       "      <td>Manhattan, Upper West Side</td>\n",
       "      <td>40.79169 -73.97498</td>\n",
       "      <td>Entire home/apt</td>\n",
       "      <td>86$</td>\n",
       "      <td>5</td>\n",
       "      <td>2017-09-23</td>\n",
       "      <td>0.13</td>\n",
       "      <td>0</td>\n",
       "      <td>4.763203</td>\n",
       "      <td>6.0</td>\n",
       "      <td>0.769947</td>\n",
       "      <td>2017-03-20</td>\n",
       "      <td>40.79169</td>\n",
       "      <td>-73.97498</td>\n",
       "    </tr>\n",
       "    <tr>\n",
       "      <th>4</th>\n",
       "      <td>4</td>\n",
       "      <td>22986519</td>\n",
       "      <td>Bedroom on the lively Lower East Side</td>\n",
       "      <td>154262349</td>\n",
       "      <td>Brooke</td>\n",
       "      <td>Manhattan, Lower East Side</td>\n",
       "      <td>40.71884 -73.98354</td>\n",
       "      <td>Private room</td>\n",
       "      <td>160$</td>\n",
       "      <td>23</td>\n",
       "      <td>2019-06-12</td>\n",
       "      <td>2.29</td>\n",
       "      <td>102</td>\n",
       "      <td>3.822591</td>\n",
       "      <td>27.6</td>\n",
       "      <td>0.649383</td>\n",
       "      <td>2020-10-23</td>\n",
       "      <td>40.71884</td>\n",
       "      <td>-73.98354</td>\n",
       "    </tr>\n",
       "  </tbody>\n",
       "</table>\n",
       "</div>"
      ],
      "text/plain": [
       "   Unnamed: 0  listing_id                                               name  \\\n",
       "0           0    13740704  Cozy,budget friendly, cable inc, private entra...   \n",
       "1           1    22005115              Two floor apartment near Central Park   \n",
       "2           2    21667615                  Beautiful 1BR in Brooklyn Heights   \n",
       "3           3     6425850                          Spacious, charming studio   \n",
       "4           4    22986519              Bedroom on the lively Lower East Side   \n",
       "\n",
       "     host_id host_name          neighbourhood_full         coordinates  \\\n",
       "0   20583125    Michel         Brooklyn, Flatlands  40.63222 -73.93398   \n",
       "1   82746113   Cecilia  Manhattan, Upper West Side  40.78761 -73.96862   \n",
       "2      78251    Leslie  Brooklyn, Brooklyn Heights   40.7007 -73.99517   \n",
       "3   32715865    Yelena  Manhattan, Upper West Side  40.79169 -73.97498   \n",
       "4  154262349    Brooke  Manhattan, Lower East Side  40.71884 -73.98354   \n",
       "\n",
       "         room_type price  number_of_reviews last_review  reviews_per_month  \\\n",
       "0     Private room   45$                 10  2018-12-12               0.70   \n",
       "1  Entire home/apt  135$                  1  2019-06-30               1.00   \n",
       "2  Entire home/apt  150$                  0         NaN                NaN   \n",
       "3  Entire home/apt   86$                  5  2017-09-23               0.13   \n",
       "4     Private room  160$                 23  2019-06-12               2.29   \n",
       "\n",
       "   availability_365    rating  number_of_stays   5_stars listing_added  \\\n",
       "0                85  4.100954             12.0  0.609432    2018-06-08   \n",
       "1               145  3.367600              1.2  0.746135    2018-12-25   \n",
       "2                65       NaN              NaN       NaN    2018-08-15   \n",
       "3                 0  4.763203              6.0  0.769947    2017-03-20   \n",
       "4               102  3.822591             27.6  0.649383    2020-10-23   \n",
       "\n",
       "   latitude  longitude  \n",
       "0  40.63222  -73.93398  \n",
       "1  40.78761  -73.96862  \n",
       "2   40.7007  -73.99517  \n",
       "3  40.79169  -73.97498  \n",
       "4  40.71884  -73.98354  "
      ]
     },
     "execution_count": 10,
     "metadata": {},
     "output_type": "execute_result"
    }
   ],
   "source": [
    "# Cetak data\n",
    "\n",
    "data.head(5)\n"
   ]
  },
  {
   "cell_type": "code",
   "execution_count": 11,
   "metadata": {
    "id": "C0zGpOgLQ8rX"
   },
   "outputs": [],
   "source": [
    "# Konversi nilai latitude dan longitude menjadi FLOAT\n",
    "\n",
    "data['latitude'] = data['latitude'].astype(float, errors = 'raise')\n",
    "data['longitude'] = data['latitude'].astype(float, errors = 'raise')\n"
   ]
  },
  {
   "cell_type": "code",
   "execution_count": 12,
   "metadata": {
    "colab": {
     "base_uri": "https://localhost:8080/"
    },
    "id": "ebEpDC77ZuTu",
    "outputId": "7c687e10-d6a0-4efd-d8f7-20e5da639ee9"
   },
   "outputs": [
    {
     "data": {
      "text/plain": [
       "Unnamed: 0              int64\n",
       "listing_id              int64\n",
       "name                   object\n",
       "host_id                 int64\n",
       "host_name              object\n",
       "neighbourhood_full     object\n",
       "coordinates            object\n",
       "room_type              object\n",
       "price                  object\n",
       "number_of_reviews       int64\n",
       "last_review            object\n",
       "reviews_per_month     float64\n",
       "availability_365        int64\n",
       "rating                float64\n",
       "number_of_stays       float64\n",
       "5_stars               float64\n",
       "listing_added          object\n",
       "latitude              float64\n",
       "longitude             float64\n",
       "dtype: object"
      ]
     },
     "execution_count": 12,
     "metadata": {},
     "output_type": "execute_result"
    }
   ],
   "source": [
    "# Cek tipe data sekali lagi\n",
    "\n",
    "data.dtypes"
   ]
  },
  {
   "cell_type": "code",
   "execution_count": 13,
   "metadata": {
    "id": "r7D3PugDRC-s"
   },
   "outputs": [],
   "source": [
    "# Hapus kolom coordinates\n",
    "\n",
    "data.drop(columns =[\"coordinates\"], inplace = True)\n"
   ]
  },
  {
   "cell_type": "code",
   "execution_count": 14,
   "metadata": {
    "colab": {
     "base_uri": "https://localhost:8080/",
     "height": 531
    },
    "id": "8d1pzXydZ51_",
    "outputId": "92c184c7-d374-4995-ee94-a0ec1bc45a86"
   },
   "outputs": [
    {
     "data": {
      "text/html": [
       "<div>\n",
       "<style scoped>\n",
       "    .dataframe tbody tr th:only-of-type {\n",
       "        vertical-align: middle;\n",
       "    }\n",
       "\n",
       "    .dataframe tbody tr th {\n",
       "        vertical-align: top;\n",
       "    }\n",
       "\n",
       "    .dataframe thead th {\n",
       "        text-align: right;\n",
       "    }\n",
       "</style>\n",
       "<table border=\"1\" class=\"dataframe\">\n",
       "  <thead>\n",
       "    <tr style=\"text-align: right;\">\n",
       "      <th></th>\n",
       "      <th>Unnamed: 0</th>\n",
       "      <th>listing_id</th>\n",
       "      <th>name</th>\n",
       "      <th>host_id</th>\n",
       "      <th>host_name</th>\n",
       "      <th>neighbourhood_full</th>\n",
       "      <th>room_type</th>\n",
       "      <th>price</th>\n",
       "      <th>number_of_reviews</th>\n",
       "      <th>last_review</th>\n",
       "      <th>reviews_per_month</th>\n",
       "      <th>availability_365</th>\n",
       "      <th>rating</th>\n",
       "      <th>number_of_stays</th>\n",
       "      <th>5_stars</th>\n",
       "      <th>listing_added</th>\n",
       "      <th>latitude</th>\n",
       "      <th>longitude</th>\n",
       "    </tr>\n",
       "  </thead>\n",
       "  <tbody>\n",
       "    <tr>\n",
       "      <th>0</th>\n",
       "      <td>0</td>\n",
       "      <td>13740704</td>\n",
       "      <td>Cozy,budget friendly, cable inc, private entra...</td>\n",
       "      <td>20583125</td>\n",
       "      <td>Michel</td>\n",
       "      <td>Brooklyn, Flatlands</td>\n",
       "      <td>Private room</td>\n",
       "      <td>45$</td>\n",
       "      <td>10</td>\n",
       "      <td>2018-12-12</td>\n",
       "      <td>0.70</td>\n",
       "      <td>85</td>\n",
       "      <td>4.100954</td>\n",
       "      <td>12.0</td>\n",
       "      <td>0.609432</td>\n",
       "      <td>2018-06-08</td>\n",
       "      <td>40.63222</td>\n",
       "      <td>40.63222</td>\n",
       "    </tr>\n",
       "    <tr>\n",
       "      <th>1</th>\n",
       "      <td>1</td>\n",
       "      <td>22005115</td>\n",
       "      <td>Two floor apartment near Central Park</td>\n",
       "      <td>82746113</td>\n",
       "      <td>Cecilia</td>\n",
       "      <td>Manhattan, Upper West Side</td>\n",
       "      <td>Entire home/apt</td>\n",
       "      <td>135$</td>\n",
       "      <td>1</td>\n",
       "      <td>2019-06-30</td>\n",
       "      <td>1.00</td>\n",
       "      <td>145</td>\n",
       "      <td>3.367600</td>\n",
       "      <td>1.2</td>\n",
       "      <td>0.746135</td>\n",
       "      <td>2018-12-25</td>\n",
       "      <td>40.78761</td>\n",
       "      <td>40.78761</td>\n",
       "    </tr>\n",
       "    <tr>\n",
       "      <th>2</th>\n",
       "      <td>2</td>\n",
       "      <td>21667615</td>\n",
       "      <td>Beautiful 1BR in Brooklyn Heights</td>\n",
       "      <td>78251</td>\n",
       "      <td>Leslie</td>\n",
       "      <td>Brooklyn, Brooklyn Heights</td>\n",
       "      <td>Entire home/apt</td>\n",
       "      <td>150$</td>\n",
       "      <td>0</td>\n",
       "      <td>NaN</td>\n",
       "      <td>NaN</td>\n",
       "      <td>65</td>\n",
       "      <td>NaN</td>\n",
       "      <td>NaN</td>\n",
       "      <td>NaN</td>\n",
       "      <td>2018-08-15</td>\n",
       "      <td>40.70070</td>\n",
       "      <td>40.70070</td>\n",
       "    </tr>\n",
       "    <tr>\n",
       "      <th>3</th>\n",
       "      <td>3</td>\n",
       "      <td>6425850</td>\n",
       "      <td>Spacious, charming studio</td>\n",
       "      <td>32715865</td>\n",
       "      <td>Yelena</td>\n",
       "      <td>Manhattan, Upper West Side</td>\n",
       "      <td>Entire home/apt</td>\n",
       "      <td>86$</td>\n",
       "      <td>5</td>\n",
       "      <td>2017-09-23</td>\n",
       "      <td>0.13</td>\n",
       "      <td>0</td>\n",
       "      <td>4.763203</td>\n",
       "      <td>6.0</td>\n",
       "      <td>0.769947</td>\n",
       "      <td>2017-03-20</td>\n",
       "      <td>40.79169</td>\n",
       "      <td>40.79169</td>\n",
       "    </tr>\n",
       "    <tr>\n",
       "      <th>4</th>\n",
       "      <td>4</td>\n",
       "      <td>22986519</td>\n",
       "      <td>Bedroom on the lively Lower East Side</td>\n",
       "      <td>154262349</td>\n",
       "      <td>Brooke</td>\n",
       "      <td>Manhattan, Lower East Side</td>\n",
       "      <td>Private room</td>\n",
       "      <td>160$</td>\n",
       "      <td>23</td>\n",
       "      <td>2019-06-12</td>\n",
       "      <td>2.29</td>\n",
       "      <td>102</td>\n",
       "      <td>3.822591</td>\n",
       "      <td>27.6</td>\n",
       "      <td>0.649383</td>\n",
       "      <td>2020-10-23</td>\n",
       "      <td>40.71884</td>\n",
       "      <td>40.71884</td>\n",
       "    </tr>\n",
       "  </tbody>\n",
       "</table>\n",
       "</div>"
      ],
      "text/plain": [
       "   Unnamed: 0  listing_id                                               name  \\\n",
       "0           0    13740704  Cozy,budget friendly, cable inc, private entra...   \n",
       "1           1    22005115              Two floor apartment near Central Park   \n",
       "2           2    21667615                  Beautiful 1BR in Brooklyn Heights   \n",
       "3           3     6425850                          Spacious, charming studio   \n",
       "4           4    22986519              Bedroom on the lively Lower East Side   \n",
       "\n",
       "     host_id host_name          neighbourhood_full        room_type price  \\\n",
       "0   20583125    Michel         Brooklyn, Flatlands     Private room   45$   \n",
       "1   82746113   Cecilia  Manhattan, Upper West Side  Entire home/apt  135$   \n",
       "2      78251    Leslie  Brooklyn, Brooklyn Heights  Entire home/apt  150$   \n",
       "3   32715865    Yelena  Manhattan, Upper West Side  Entire home/apt   86$   \n",
       "4  154262349    Brooke  Manhattan, Lower East Side     Private room  160$   \n",
       "\n",
       "   number_of_reviews last_review  reviews_per_month  availability_365  \\\n",
       "0                 10  2018-12-12               0.70                85   \n",
       "1                  1  2019-06-30               1.00               145   \n",
       "2                  0         NaN                NaN                65   \n",
       "3                  5  2017-09-23               0.13                 0   \n",
       "4                 23  2019-06-12               2.29               102   \n",
       "\n",
       "     rating  number_of_stays   5_stars listing_added  latitude  longitude  \n",
       "0  4.100954             12.0  0.609432    2018-06-08  40.63222   40.63222  \n",
       "1  3.367600              1.2  0.746135    2018-12-25  40.78761   40.78761  \n",
       "2       NaN              NaN       NaN    2018-08-15  40.70070   40.70070  \n",
       "3  4.763203              6.0  0.769947    2017-03-20  40.79169   40.79169  \n",
       "4  3.822591             27.6  0.649383    2020-10-23  40.71884   40.71884  "
      ]
     },
     "execution_count": 14,
     "metadata": {},
     "output_type": "execute_result"
    }
   ],
   "source": [
    "# Cetak data sekali lagi\n",
    "\n",
    "data.head(5)"
   ]
  },
  {
   "cell_type": "markdown",
   "metadata": {
    "id": "zlzJPLK0RSr9"
   },
   "source": [
    "**Challenge 2**: Hapus `$` dari kolom `price` dan konversi ke `float`"
   ]
  },
  {
   "cell_type": "code",
   "execution_count": 15,
   "metadata": {
    "id": "Su6AjSotRHL-"
   },
   "outputs": [
    {
     "name": "stderr",
     "output_type": "stream",
     "text": [
      "C:\\Users\\rizky\\AppData\\Local\\Temp/ipykernel_6316/754644066.py:3: FutureWarning: The default value of regex will change from True to False in a future version. In addition, single character regular expressions will *not* be treated as literal strings when regex=True.\n",
      "  data['price'] = data['price'].str.replace(\"$\",\"\")\n"
     ]
    }
   ],
   "source": [
    "# Hapus tanda dolar ($) dari kolom price sebelum nantinya akan kita konversi ke tipe data FLOAT\n",
    "\n",
    "data['price'] = data['price'].str.replace(\"$\",\"\")\n"
   ]
  },
  {
   "cell_type": "code",
   "execution_count": 16,
   "metadata": {
    "colab": {
     "base_uri": "https://localhost:8080/"
    },
    "id": "_kXrFJ_IaVq2",
    "outputId": "e360f9f3-9676-4adb-c139-00335cb0fe1b"
   },
   "outputs": [
    {
     "data": {
      "text/plain": [
       "0     45\n",
       "1    135\n",
       "2    150\n",
       "3     86\n",
       "4    160\n",
       "Name: price, dtype: object"
      ]
     },
     "execution_count": 16,
     "metadata": {},
     "output_type": "execute_result"
    }
   ],
   "source": [
    "# Cetak untuk melihat apakah sudah terjadi perubahan pada kolom price\n",
    "data['price'].head(5)"
   ]
  },
  {
   "cell_type": "code",
   "execution_count": 17,
   "metadata": {
    "id": "qTpZJaY1Rdhd"
   },
   "outputs": [
    {
     "data": {
      "text/plain": [
       "Unnamed: 0              int64\n",
       "listing_id              int64\n",
       "name                   object\n",
       "host_id                 int64\n",
       "host_name              object\n",
       "neighbourhood_full     object\n",
       "room_type              object\n",
       "price                 float64\n",
       "number_of_reviews       int64\n",
       "last_review            object\n",
       "reviews_per_month     float64\n",
       "availability_365        int64\n",
       "rating                float64\n",
       "number_of_stays       float64\n",
       "5_stars               float64\n",
       "listing_added          object\n",
       "latitude              float64\n",
       "longitude             float64\n",
       "dtype: object"
      ]
     },
     "execution_count": 17,
     "metadata": {},
     "output_type": "execute_result"
    }
   ],
   "source": [
    "# Konversi kolom price ke bentuk FLOAT\n",
    "\n",
    "data['price'] = data['price'].astype(float, errors = 'raise')\n",
    "data.dtypes"
   ]
  },
  {
   "cell_type": "code",
   "execution_count": 18,
   "metadata": {
    "colab": {
     "base_uri": "https://localhost:8080/"
    },
    "id": "5R0Ge4alawMn",
    "outputId": "74fac177-4edc-4e15-e0ad-14565d3f19fb"
   },
   "outputs": [
    {
     "data": {
      "text/plain": [
       "150.90512217564665"
      ]
     },
     "execution_count": 18,
     "metadata": {},
     "output_type": "execute_result"
    }
   ],
   "source": [
    "# Hitung nilai mean dari kolom price setelah dikonversi\n",
    "\n",
    "data[\"price\"].mean()\n"
   ]
  },
  {
   "cell_type": "code",
   "execution_count": 19,
   "metadata": {
    "colab": {
     "base_uri": "https://localhost:8080/",
     "height": 368
    },
    "id": "GH4hcs4kRx99",
    "outputId": "5606090d-31c8-4dfa-abb1-20edc7004cb6"
   },
   "outputs": [
    {
     "name": "stderr",
     "output_type": "stream",
     "text": [
      "C:\\Users\\rizky\\AppData\\Local\\Programs\\Python\\Python310\\lib\\site-packages\\seaborn\\distributions.py:2619: FutureWarning: `distplot` is a deprecated function and will be removed in a future version. Please adapt your code to use either `displot` (a figure-level function with similar flexibility) or `histplot` (an axes-level function for histograms).\n",
      "  warnings.warn(msg, FutureWarning)\n"
     ]
    },
    {
     "data": {
      "text/plain": [
       "[]"
      ]
     },
     "execution_count": 19,
     "metadata": {},
     "output_type": "execute_result"
    },
    {
     "data": {
      "image/png": "[encoded data removed]",
      "text/plain": [
       "<Figure size 432x288 with 1 Axes>"
      ]
     },
     "metadata": {
      "needs_background": "light"
     },
     "output_type": "display_data"
    }
   ],
   "source": [
    "# Buat visualisasi distribusi dari kolom prices\n",
    "\n",
    "sns.distplot(data['price'], bins = 20)\n",
    "plt.plot()"
   ]
  },
  {
   "cell_type": "markdown",
   "metadata": {
    "id": "6Lgkb8nBSa42"
   },
   "source": [
    "**Challenge 3**: Kita buat supaya kolom `room_type` benar-benar rapi secara kategori."
   ]
  },
  {
   "cell_type": "code",
   "execution_count": 20,
   "metadata": {
    "colab": {
     "base_uri": "https://localhost:8080/"
    },
    "id": "MkLeUjVUSO2u",
    "outputId": "c5e86b0d-d4cc-409f-ddc1-0df95421f34b"
   },
   "outputs": [
    {
     "data": {
      "text/plain": [
       "array(['Private room', 'Entire home/apt', 'Private', 'Shared room',\n",
       "       'PRIVATE ROOM', 'home', '   Shared room      '], dtype=object)"
      ]
     },
     "execution_count": 20,
     "metadata": {},
     "output_type": "execute_result"
    }
   ],
   "source": [
    "# Cetak supaya tahu kategori apa saja yang ada di kolom `room_type`\n",
    "\n",
    "data['room_type'].unique()"
   ]
  },
  {
   "cell_type": "code",
   "execution_count": 21,
   "metadata": {
    "colab": {
     "base_uri": "https://localhost:8080/"
    },
    "id": "i25lxq3VSm32",
    "outputId": "8b4e90e8-20e5-479c-cc8c-021f5638413d"
   },
   "outputs": [
    {
     "data": {
      "text/plain": [
       "array(['private room', 'entire home/apt', 'private', 'shared room',\n",
       "       'home', '   shared room      '], dtype=object)"
      ]
     },
     "execution_count": 21,
     "metadata": {},
     "output_type": "execute_result"
    }
   ],
   "source": [
    "# Buat supaya semua berubah menjadi huruf kecil\n",
    "\n",
    "data['room_type'] = data['room_type'].str.lower()\n",
    "data['room_type'].unique()"
   ]
  },
  {
   "cell_type": "code",
   "execution_count": 22,
   "metadata": {
    "colab": {
     "base_uri": "https://localhost:8080/"
    },
    "id": "PVOMa8zqSpCQ",
    "outputId": "e6cf2f62-b406-4923-c800-3d93ce237c35"
   },
   "outputs": [
    {
     "data": {
      "text/plain": [
       "array(['private room', 'entire home/apt', 'private', 'shared room',\n",
       "       'home'], dtype=object)"
      ]
     },
     "execution_count": 22,
     "metadata": {},
     "output_type": "execute_result"
    }
   ],
   "source": [
    "# Buat supaya tidak ada spasi di awal dan akhir\n",
    "\n",
    "data['room_type'] = data['room_type'].str.strip()\n",
    "data['room_type'].unique()"
   ]
  },
  {
   "cell_type": "code",
   "execution_count": 23,
   "metadata": {
    "colab": {
     "base_uri": "https://localhost:8080/"
    },
    "id": "KaaDEmmFSrbR",
    "outputId": "a601ee4b-0b66-4ed4-89b3-a2fb74e9a110"
   },
   "outputs": [],
   "source": [
    "# Ganti menjadi kategori 'Shared room', 'Entire place', 'Private room' dan 'Hotel room'\n",
    "\n",
    "mapping = { 'private room': 'Private Room',\n",
    "           'private': 'Private Room',\n",
    "           'entire home/apt': 'Entire place',\n",
    "           'share room': 'Share room',\n",
    "           'hotel': 'Hotel room'\n",
    "          }\n",
    "\n",
    "for key in mapping.keys():\n",
    "    data['room_type'] = data['room_type'].str.replace(key, mapping[key])\n",
    "\n"
   ]
  },
  {
   "cell_type": "code",
   "execution_count": 24,
   "metadata": {
    "colab": {
     "base_uri": "https://localhost:8080/",
     "height": 531
    },
    "id": "9GE3uwJlcj_O",
    "outputId": "4632e58d-29a1-4f03-acc2-10326f1101a5"
   },
   "outputs": [
    {
     "data": {
      "text/plain": [
       "0    Private Room\n",
       "1    Entire place\n",
       "2    Entire place\n",
       "3    Entire place\n",
       "4    Private Room\n",
       "Name: room_type, dtype: object"
      ]
     },
     "execution_count": 24,
     "metadata": {},
     "output_type": "execute_result"
    }
   ],
   "source": [
    "# Cek 5 data teratas untuk melihat perubahan yang terjadi\n",
    "\n",
    "data['room_type'].head(5)"
   ]
  },
  {
   "cell_type": "markdown",
   "metadata": {
    "id": "MktQegnOS7H-"
   },
   "source": [
    "**Challenge 4**: Kita bersihkan **missing data**"
   ]
  },
  {
   "cell_type": "code",
   "execution_count": 37,
   "metadata": {
    "colab": {
     "base_uri": "https://localhost:8080/",
     "height": 597
    },
    "id": "LFIgvPC7TZKO",
    "outputId": "73835861-2dad-46fb-b2bf-776c47a36e77"
   },
   "outputs": [
    {
     "data": {
      "image/png": "[encoded data removed]",
      "text/plain": [
       "<Figure size 1800x720 with 2 Axes>"
      ]
     },
     "metadata": {
      "needs_background": "light"
     },
     "output_type": "display_data"
    }
   ],
   "source": [
    "# Visualisasi missingness \n",
    "\n",
    "msno.matrix(data)\n",
    "plt.show()\n"
   ]
  },
  {
   "cell_type": "code",
   "execution_count": 45,
   "metadata": {
    "colab": {
     "base_uri": "https://localhost:8080/",
     "height": 597
    },
    "id": "wq5EVIpmTu4h",
    "outputId": "990337d5-e6b9-4d2d-e6c7-880f1f3495a3"
   },
   "outputs": [
    {
     "data": {
      "image/png": "[encoded data removed]",
      "text/plain": [
       "<Figure size 1800x720 with 2 Axes>"
      ]
     },
     "metadata": {
      "needs_background": "light"
     },
     "output_type": "display_data"
    }
   ],
   "source": [
    "# Visualisasikan missingness berdasarkan rating\n",
    "\n",
    "msno.matrix(data.sort_values(by = 'rating'))\n",
    "plt.show()"
   ]
  },
  {
   "cell_type": "code",
   "execution_count": 46,
   "metadata": {
    "colab": {
     "base_uri": "https://localhost:8080/",
     "height": 648
    },
    "id": "NhftOP4gT1gQ",
    "outputId": "512fd178-3b37-4a2f-bd60-2720dac8d103"
   },
   "outputs": [
    {
     "data": {
      "text/plain": [
       "<AxesSubplot:>"
      ]
     },
     "execution_count": 46,
     "metadata": {},
     "output_type": "execute_result"
    },
    {
     "data": {
      "image/png": "[encoded data removed]",
      "text/plain": [
       "<Figure size 1800x720 with 3 Axes>"
      ]
     },
     "metadata": {
      "needs_background": "light"
     },
     "output_type": "display_data"
    }
   ],
   "source": [
    "# Buat dalam bentuk barplot\n",
    "msno.bar(data)\n"
   ]
  },
  {
   "cell_type": "code",
   "execution_count": 47,
   "metadata": {
    "colab": {
     "base_uri": "https://localhost:8080/",
     "height": 344
    },
    "id": "Thff8nSjT4C0",
    "outputId": "5bed22ef-9dbe-482b-afaf-b24465d04cdf"
   },
   "outputs": [
    {
     "data": {
      "text/html": [
       "<div>\n",
       "<style scoped>\n",
       "    .dataframe tbody tr th:only-of-type {\n",
       "        vertical-align: middle;\n",
       "    }\n",
       "\n",
       "    .dataframe tbody tr th {\n",
       "        vertical-align: top;\n",
       "    }\n",
       "\n",
       "    .dataframe thead th {\n",
       "        text-align: right;\n",
       "    }\n",
       "</style>\n",
       "<table border=\"1\" class=\"dataframe\">\n",
       "  <thead>\n",
       "    <tr style=\"text-align: right;\">\n",
       "      <th></th>\n",
       "      <th>Unnamed: 0</th>\n",
       "      <th>listing_id</th>\n",
       "      <th>host_id</th>\n",
       "      <th>price</th>\n",
       "      <th>rating</th>\n",
       "      <th>latitude</th>\n",
       "      <th>longitude</th>\n",
       "    </tr>\n",
       "  </thead>\n",
       "  <tbody>\n",
       "    <tr>\n",
       "      <th>count</th>\n",
       "      <td>2075.000000</td>\n",
       "      <td>2.075000e+03</td>\n",
       "      <td>2.075000e+03</td>\n",
       "      <td>2028.000000</td>\n",
       "      <td>0.0</td>\n",
       "      <td>2075.000000</td>\n",
       "      <td>2075.000000</td>\n",
       "    </tr>\n",
       "    <tr>\n",
       "      <th>mean</th>\n",
       "      <td>4983.181205</td>\n",
       "      <td>2.274238e+07</td>\n",
       "      <td>8.022455e+07</td>\n",
       "      <td>191.553748</td>\n",
       "      <td>NaN</td>\n",
       "      <td>40.732074</td>\n",
       "      <td>40.732074</td>\n",
       "    </tr>\n",
       "    <tr>\n",
       "      <th>std</th>\n",
       "      <td>2874.009469</td>\n",
       "      <td>1.123730e+07</td>\n",
       "      <td>8.663163e+07</td>\n",
       "      <td>316.186639</td>\n",
       "      <td>NaN</td>\n",
       "      <td>0.051168</td>\n",
       "      <td>0.051168</td>\n",
       "    </tr>\n",
       "    <tr>\n",
       "      <th>min</th>\n",
       "      <td>2.000000</td>\n",
       "      <td>6.358800e+04</td>\n",
       "      <td>1.475100e+04</td>\n",
       "      <td>0.000000</td>\n",
       "      <td>NaN</td>\n",
       "      <td>40.527000</td>\n",
       "      <td>40.527000</td>\n",
       "    </tr>\n",
       "    <tr>\n",
       "      <th>25%</th>\n",
       "      <td>2461.500000</td>\n",
       "      <td>1.232923e+07</td>\n",
       "      <td>1.224305e+07</td>\n",
       "      <td>70.000000</td>\n",
       "      <td>NaN</td>\n",
       "      <td>40.697845</td>\n",
       "      <td>40.697845</td>\n",
       "    </tr>\n",
       "    <tr>\n",
       "      <th>50%</th>\n",
       "      <td>4987.000000</td>\n",
       "      <td>2.345182e+07</td>\n",
       "      <td>4.040116e+07</td>\n",
       "      <td>120.000000</td>\n",
       "      <td>NaN</td>\n",
       "      <td>40.727790</td>\n",
       "      <td>40.727790</td>\n",
       "    </tr>\n",
       "    <tr>\n",
       "      <th>75%</th>\n",
       "      <td>7390.000000</td>\n",
       "      <td>3.400364e+07</td>\n",
       "      <td>1.333498e+08</td>\n",
       "      <td>205.250000</td>\n",
       "      <td>NaN</td>\n",
       "      <td>40.763480</td>\n",
       "      <td>40.763480</td>\n",
       "    </tr>\n",
       "    <tr>\n",
       "      <th>max</th>\n",
       "      <td>10007.000000</td>\n",
       "      <td>3.648724e+07</td>\n",
       "      <td>2.741034e+08</td>\n",
       "      <td>5250.000000</td>\n",
       "      <td>NaN</td>\n",
       "      <td>40.911690</td>\n",
       "      <td>40.911690</td>\n",
       "    </tr>\n",
       "  </tbody>\n",
       "</table>\n",
       "</div>"
      ],
      "text/plain": [
       "         Unnamed: 0    listing_id       host_id        price  rating  \\\n",
       "count   2075.000000  2.075000e+03  2.075000e+03  2028.000000     0.0   \n",
       "mean    4983.181205  2.274238e+07  8.022455e+07   191.553748     NaN   \n",
       "std     2874.009469  1.123730e+07  8.663163e+07   316.186639     NaN   \n",
       "min        2.000000  6.358800e+04  1.475100e+04     0.000000     NaN   \n",
       "25%     2461.500000  1.232923e+07  1.224305e+07    70.000000     NaN   \n",
       "50%     4987.000000  2.345182e+07  4.040116e+07   120.000000     NaN   \n",
       "75%     7390.000000  3.400364e+07  1.333498e+08   205.250000     NaN   \n",
       "max    10007.000000  3.648724e+07  2.741034e+08  5250.000000     NaN   \n",
       "\n",
       "          latitude    longitude  \n",
       "count  2075.000000  2075.000000  \n",
       "mean     40.732074    40.732074  \n",
       "std       0.051168     0.051168  \n",
       "min      40.527000    40.527000  \n",
       "25%      40.697845    40.697845  \n",
       "50%      40.727790    40.727790  \n",
       "75%      40.763480    40.763480  \n",
       "max      40.911690    40.911690  "
      ]
     },
     "execution_count": 47,
     "metadata": {},
     "output_type": "execute_result"
    }
   ],
   "source": [
    "# Cek DataFrame yang ada missing values di kolom rating, number_of_stays, 5_stars, reviews_per_month\n",
    "data[data['rating'].isna()].describe()"
   ]
  },
  {
   "cell_type": "code",
   "execution_count": 48,
   "metadata": {
    "id": "rYCxqFGaT_Qx"
   },
   "outputs": [],
   "source": [
    "# Lakukan imputasi untuk missing data\n",
    "\n",
    "data = data.fillna({'reviews_per_month' : 0,\n",
    "                    'number_of_stays' :0,\n",
    "                    '5_stars' :0\n",
    "                   })"
   ]
  },
  {
   "cell_type": "code",
   "execution_count": 49,
   "metadata": {
    "id": "rqyuglrjUC-C"
   },
   "outputs": [],
   "source": [
    "# Buat kolom baru, beri nama sudah_dinilai\n",
    "\n",
    "sudah_dinilai = np.where(data['rating'].isna() == True, 0,1)\n",
    "data['sudah_dinilai'] = sudah_dinilai\n"
   ]
  },
  {
   "cell_type": "code",
   "execution_count": 50,
   "metadata": {
    "colab": {
     "base_uri": "https://localhost:8080/",
     "height": 531
    },
    "id": "3LbQDYhAeDoq",
    "outputId": "7b96fc61-2a4a-456c-b4da-19f2cb9166c6"
   },
   "outputs": [
    {
     "data": {
      "text/html": [
       "<div>\n",
       "<style scoped>\n",
       "    .dataframe tbody tr th:only-of-type {\n",
       "        vertical-align: middle;\n",
       "    }\n",
       "\n",
       "    .dataframe tbody tr th {\n",
       "        vertical-align: top;\n",
       "    }\n",
       "\n",
       "    .dataframe thead th {\n",
       "        text-align: right;\n",
       "    }\n",
       "</style>\n",
       "<table border=\"1\" class=\"dataframe\">\n",
       "  <thead>\n",
       "    <tr style=\"text-align: right;\">\n",
       "      <th></th>\n",
       "      <th>Unnamed: 0</th>\n",
       "      <th>listing_id</th>\n",
       "      <th>name</th>\n",
       "      <th>host_id</th>\n",
       "      <th>host_name</th>\n",
       "      <th>room_type</th>\n",
       "      <th>price</th>\n",
       "      <th>rating</th>\n",
       "      <th>latitude</th>\n",
       "      <th>longitude</th>\n",
       "      <th>sudah_dinilai</th>\n",
       "    </tr>\n",
       "  </thead>\n",
       "  <tbody>\n",
       "    <tr>\n",
       "      <th>0</th>\n",
       "      <td>0</td>\n",
       "      <td>13740704</td>\n",
       "      <td>Cozy,budget friendly, cable inc, private entra...</td>\n",
       "      <td>20583125</td>\n",
       "      <td>Michel</td>\n",
       "      <td>Private Room</td>\n",
       "      <td>45.0</td>\n",
       "      <td>4.100954</td>\n",
       "      <td>40.63222</td>\n",
       "      <td>40.63222</td>\n",
       "      <td>1</td>\n",
       "    </tr>\n",
       "    <tr>\n",
       "      <th>1</th>\n",
       "      <td>1</td>\n",
       "      <td>22005115</td>\n",
       "      <td>Two floor apartment near Central Park</td>\n",
       "      <td>82746113</td>\n",
       "      <td>Cecilia</td>\n",
       "      <td>Entire place</td>\n",
       "      <td>135.0</td>\n",
       "      <td>3.367600</td>\n",
       "      <td>40.78761</td>\n",
       "      <td>40.78761</td>\n",
       "      <td>1</td>\n",
       "    </tr>\n",
       "    <tr>\n",
       "      <th>2</th>\n",
       "      <td>2</td>\n",
       "      <td>21667615</td>\n",
       "      <td>Beautiful 1BR in Brooklyn Heights</td>\n",
       "      <td>78251</td>\n",
       "      <td>Leslie</td>\n",
       "      <td>Entire place</td>\n",
       "      <td>150.0</td>\n",
       "      <td>NaN</td>\n",
       "      <td>40.70070</td>\n",
       "      <td>40.70070</td>\n",
       "      <td>0</td>\n",
       "    </tr>\n",
       "    <tr>\n",
       "      <th>3</th>\n",
       "      <td>3</td>\n",
       "      <td>6425850</td>\n",
       "      <td>Spacious, charming studio</td>\n",
       "      <td>32715865</td>\n",
       "      <td>Yelena</td>\n",
       "      <td>Entire place</td>\n",
       "      <td>86.0</td>\n",
       "      <td>4.763203</td>\n",
       "      <td>40.79169</td>\n",
       "      <td>40.79169</td>\n",
       "      <td>1</td>\n",
       "    </tr>\n",
       "    <tr>\n",
       "      <th>4</th>\n",
       "      <td>4</td>\n",
       "      <td>22986519</td>\n",
       "      <td>Bedroom on the lively Lower East Side</td>\n",
       "      <td>154262349</td>\n",
       "      <td>Brooke</td>\n",
       "      <td>Private Room</td>\n",
       "      <td>160.0</td>\n",
       "      <td>3.822591</td>\n",
       "      <td>40.71884</td>\n",
       "      <td>40.71884</td>\n",
       "      <td>1</td>\n",
       "    </tr>\n",
       "  </tbody>\n",
       "</table>\n",
       "</div>"
      ],
      "text/plain": [
       "   Unnamed: 0  listing_id                                               name  \\\n",
       "0           0    13740704  Cozy,budget friendly, cable inc, private entra...   \n",
       "1           1    22005115              Two floor apartment near Central Park   \n",
       "2           2    21667615                  Beautiful 1BR in Brooklyn Heights   \n",
       "3           3     6425850                          Spacious, charming studio   \n",
       "4           4    22986519              Bedroom on the lively Lower East Side   \n",
       "\n",
       "     host_id host_name     room_type  price    rating  latitude  longitude  \\\n",
       "0   20583125    Michel  Private Room   45.0  4.100954  40.63222   40.63222   \n",
       "1   82746113   Cecilia  Entire place  135.0  3.367600  40.78761   40.78761   \n",
       "2      78251    Leslie  Entire place  150.0       NaN  40.70070   40.70070   \n",
       "3   32715865    Yelena  Entire place   86.0  4.763203  40.79169   40.79169   \n",
       "4  154262349    Brooke  Private Room  160.0  3.822591  40.71884   40.71884   \n",
       "\n",
       "   sudah_dinilai  \n",
       "0              1  \n",
       "1              1  \n",
       "2              0  \n",
       "3              1  \n",
       "4              1  "
      ]
     },
     "execution_count": 50,
     "metadata": {},
     "output_type": "execute_result"
    }
   ],
   "source": [
    "# Cek data\n",
    "data.head()"
   ]
  },
  {
   "cell_type": "markdown",
   "metadata": {
    "id": "JzXib411emo3"
   },
   "source": [
    "**Challenge 5**: Hapus kolom-kolom berikut\n",
    "\n",
    "\n",
    "1.   neighbourhood_full\n",
    "2.   number_of_reviews\n",
    "3.   last_review\n",
    "4.   reviews_per_month\n",
    "5.   availability_365\n",
    "6.   number_of_stays\n",
    "7.   5_stars\n",
    "8.   listing_added\n",
    "\n",
    "\n",
    "\n",
    "\n",
    "\n",
    "\n",
    "\n"
   ]
  },
  {
   "cell_type": "code",
   "execution_count": 41,
   "metadata": {
    "id": "hFcIOmijeGtG"
   },
   "outputs": [],
   "source": [
    "# Hapus beberapa kolom yang tidak dibutuhkan\n",
    "\n",
    "data.drop(columns =[\"neighbourhood_full\", \"number_of_reviews\", 'last_review', 'reviews_per_month', 'availability_365', 'number_of_stays', '5_stars', 'listing_added' ], inplace = True)"
   ]
  },
  {
   "cell_type": "code",
   "execution_count": 43,
   "metadata": {
    "id": "QbDozJHifYbu"
   },
   "outputs": [
    {
     "data": {
      "text/html": [
       "<div>\n",
       "<style scoped>\n",
       "    .dataframe tbody tr th:only-of-type {\n",
       "        vertical-align: middle;\n",
       "    }\n",
       "\n",
       "    .dataframe tbody tr th {\n",
       "        vertical-align: top;\n",
       "    }\n",
       "\n",
       "    .dataframe thead th {\n",
       "        text-align: right;\n",
       "    }\n",
       "</style>\n",
       "<table border=\"1\" class=\"dataframe\">\n",
       "  <thead>\n",
       "    <tr style=\"text-align: right;\">\n",
       "      <th></th>\n",
       "      <th>Unnamed: 0</th>\n",
       "      <th>listing_id</th>\n",
       "      <th>name</th>\n",
       "      <th>host_id</th>\n",
       "      <th>host_name</th>\n",
       "      <th>room_type</th>\n",
       "      <th>price</th>\n",
       "      <th>rating</th>\n",
       "      <th>latitude</th>\n",
       "      <th>longitude</th>\n",
       "    </tr>\n",
       "  </thead>\n",
       "  <tbody>\n",
       "    <tr>\n",
       "      <th>0</th>\n",
       "      <td>0</td>\n",
       "      <td>13740704</td>\n",
       "      <td>Cozy,budget friendly, cable inc, private entra...</td>\n",
       "      <td>20583125</td>\n",
       "      <td>Michel</td>\n",
       "      <td>Private Room</td>\n",
       "      <td>45.0</td>\n",
       "      <td>4.100954</td>\n",
       "      <td>40.63222</td>\n",
       "      <td>40.63222</td>\n",
       "    </tr>\n",
       "    <tr>\n",
       "      <th>1</th>\n",
       "      <td>1</td>\n",
       "      <td>22005115</td>\n",
       "      <td>Two floor apartment near Central Park</td>\n",
       "      <td>82746113</td>\n",
       "      <td>Cecilia</td>\n",
       "      <td>Entire place</td>\n",
       "      <td>135.0</td>\n",
       "      <td>3.367600</td>\n",
       "      <td>40.78761</td>\n",
       "      <td>40.78761</td>\n",
       "    </tr>\n",
       "    <tr>\n",
       "      <th>2</th>\n",
       "      <td>2</td>\n",
       "      <td>21667615</td>\n",
       "      <td>Beautiful 1BR in Brooklyn Heights</td>\n",
       "      <td>78251</td>\n",
       "      <td>Leslie</td>\n",
       "      <td>Entire place</td>\n",
       "      <td>150.0</td>\n",
       "      <td>NaN</td>\n",
       "      <td>40.70070</td>\n",
       "      <td>40.70070</td>\n",
       "    </tr>\n",
       "    <tr>\n",
       "      <th>3</th>\n",
       "      <td>3</td>\n",
       "      <td>6425850</td>\n",
       "      <td>Spacious, charming studio</td>\n",
       "      <td>32715865</td>\n",
       "      <td>Yelena</td>\n",
       "      <td>Entire place</td>\n",
       "      <td>86.0</td>\n",
       "      <td>4.763203</td>\n",
       "      <td>40.79169</td>\n",
       "      <td>40.79169</td>\n",
       "    </tr>\n",
       "    <tr>\n",
       "      <th>4</th>\n",
       "      <td>4</td>\n",
       "      <td>22986519</td>\n",
       "      <td>Bedroom on the lively Lower East Side</td>\n",
       "      <td>154262349</td>\n",
       "      <td>Brooke</td>\n",
       "      <td>Private Room</td>\n",
       "      <td>160.0</td>\n",
       "      <td>3.822591</td>\n",
       "      <td>40.71884</td>\n",
       "      <td>40.71884</td>\n",
       "    </tr>\n",
       "  </tbody>\n",
       "</table>\n",
       "</div>"
      ],
      "text/plain": [
       "   Unnamed: 0  listing_id                                               name  \\\n",
       "0           0    13740704  Cozy,budget friendly, cable inc, private entra...   \n",
       "1           1    22005115              Two floor apartment near Central Park   \n",
       "2           2    21667615                  Beautiful 1BR in Brooklyn Heights   \n",
       "3           3     6425850                          Spacious, charming studio   \n",
       "4           4    22986519              Bedroom on the lively Lower East Side   \n",
       "\n",
       "     host_id host_name     room_type  price    rating  latitude  longitude  \n",
       "0   20583125    Michel  Private Room   45.0  4.100954  40.63222   40.63222  \n",
       "1   82746113   Cecilia  Entire place  135.0  3.367600  40.78761   40.78761  \n",
       "2      78251    Leslie  Entire place  150.0       NaN  40.70070   40.70070  \n",
       "3   32715865    Yelena  Entire place   86.0  4.763203  40.79169   40.79169  \n",
       "4  154262349    Brooke  Private Room  160.0  3.822591  40.71884   40.71884  "
      ]
     },
     "execution_count": 43,
     "metadata": {},
     "output_type": "execute_result"
    }
   ],
   "source": [
    "# Tampilkan data\n",
    "\n",
    "data.head(5)"
   ]
  },
  {
   "cell_type": "code",
   "execution_count": null,
   "metadata": {},
   "outputs": [],
   "source": []
  }
 ],
 "metadata": {
  "colab": {
   "name": "TTS_NIM.ipynb",
   "provenance": []
  },
  "kernelspec": {
   "display_name": "Python 3 (ipykernel)",
   "language": "python",
   "name": "python3"
  },
  "language_info": {
   "codemirror_mode": {
    "name": "ipython",
    "version": 3
   },
   "file_extension": ".py",
   "mimetype": "text/x-python",
   "name": "python",
   "nbconvert_exporter": "python",
   "pygments_lexer": "ipython3",
   "version": "3.10.2"
  }
 },
 "nbformat": 4,
 "nbformat_minor": 1
}
