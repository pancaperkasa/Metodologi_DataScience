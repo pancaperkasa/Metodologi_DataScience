{
 "cells": [
  {
   "cell_type": "markdown",
   "id": "3aa5e2f1",
   "metadata": {},
   "source": [
    "1. DATASET"
   ]
  },
  {
   "cell_type": "code",
   "execution_count": 1,
   "id": "e8e4482d",
   "metadata": {},
   "outputs": [],
   "source": [
    "from sklearn import datasets\n",
    "iris = datasets.load_iris()\n",
    "x = iris.data\n",
    "y = iris.target"
   ]
  },
  {
   "cell_type": "code",
   "execution_count": 2,
   "id": "b51768c8",
   "metadata": {},
   "outputs": [
    {
     "name": "stdout",
     "output_type": "stream",
     "text": [
      "Banyaknya data :  150\n"
     ]
    }
   ],
   "source": [
    "print(\"Banyaknya data : \",len(x))"
   ]
  },
  {
   "cell_type": "code",
   "execution_count": 3,
   "id": "cddd4254",
   "metadata": {},
   "outputs": [
    {
     "name": "stdout",
     "output_type": "stream",
     "text": [
      "15 data pertama : \n",
      "[[5.1 3.5 1.4 0.2]\n",
      " [4.9 3.  1.4 0.2]\n",
      " [4.7 3.2 1.3 0.2]\n",
      " [4.6 3.1 1.5 0.2]\n",
      " [5.  3.6 1.4 0.2]\n",
      " [5.4 3.9 1.7 0.4]\n",
      " [4.6 3.4 1.4 0.3]\n",
      " [5.  3.4 1.5 0.2]\n",
      " [4.4 2.9 1.4 0.2]\n",
      " [4.9 3.1 1.5 0.1]\n",
      " [5.4 3.7 1.5 0.2]\n",
      " [4.8 3.4 1.6 0.2]\n",
      " [4.8 3.  1.4 0.1]\n",
      " [4.3 3.  1.1 0.1]\n",
      " [5.8 4.  1.2 0.2]]\n"
     ]
    }
   ],
   "source": [
    "print(\"15 data pertama : \")\n",
    "print(x[:15])"
   ]
  },
  {
   "cell_type": "markdown",
   "id": "df923bfe",
   "metadata": {},
   "source": [
    "2. SPLIT DATA"
   ]
  },
  {
   "cell_type": "code",
   "execution_count": 4,
   "id": "f654e1c9",
   "metadata": {},
   "outputs": [],
   "source": [
    "from sklearn.model_selection import train_test_split\n",
    "x_train, x_test, y_train, y_test = train_test_split(x, y, train_size = 0.7)"
   ]
  },
  {
   "cell_type": "code",
   "execution_count": 5,
   "id": "4b52ab16",
   "metadata": {},
   "outputs": [
    {
     "name": "stdout",
     "output_type": "stream",
     "text": [
      "Banyaknya data latih : 105\n",
      "Banyaknya data test : 45\n"
     ]
    }
   ],
   "source": [
    "print(\"Banyaknya data latih :\", len(x_train))\n",
    "print(\"Banyaknya data test :\", len(x_test))"
   ]
  },
  {
   "cell_type": "raw",
   "id": "211ff42c",
   "metadata": {},
   "source": [
    "K-Fold"
   ]
  },
  {
   "cell_type": "code",
   "execution_count": 6,
   "id": "dea975e3",
   "metadata": {},
   "outputs": [
    {
     "name": "stdout",
     "output_type": "stream",
     "text": [
      "Akurasi SVM untuk setiap fold:  [0.96666667 1.         0.96666667 0.96666667 1.        ]\n",
      "Akurasi SVM untuk setiap 5-fold:  0.9800000000000001\n"
     ]
    }
   ],
   "source": [
    "from sklearn.model_selection import cross_val_score\n",
    "from sklearn.svm import SVC\n",
    "\n",
    "model = SVC(kernel='linear', C=1)\n",
    "scores = cross_val_score(model, x, y, cv = 5)\n",
    "\n",
    "print(\"Akurasi SVM untuk setiap fold: \", scores)\n",
    "print(\"Akurasi SVM untuk setiap 5-fold: \", scores.mean())\n"
   ]
  },
  {
   "cell_type": "markdown",
   "id": "88ed625a",
   "metadata": {},
   "source": [
    "UJI COBA MODEL KLASIFIKASI"
   ]
  },
  {
   "cell_type": "markdown",
   "id": "5ae7e777",
   "metadata": {},
   "source": [
    "1. KNN\n",
    "sumber bacaan : https://scikit-learn.org/stable/modules/generated/sklearn.neighbors.KNeighborsClassifier.html#sklearn.neighbors.KNeighborsClassifier"
   ]
  },
  {
   "cell_type": "code",
   "execution_count": 7,
   "id": "e8403520",
   "metadata": {},
   "outputs": [
    {
     "name": "stdout",
     "output_type": "stream",
     "text": [
      "Akurasi model KNN sebesar :  0.9777777777777777\n"
     ]
    }
   ],
   "source": [
    "from sklearn.neighbors import KNeighborsClassifier\n",
    "from sklearn import metrics\n",
    "\n",
    "knn = KNeighborsClassifier()\n",
    "\n",
    "knn.fit(x_train, y_train)\n",
    "y_pred = knn.predict(x_test)\n",
    "score = metrics.accuracy_score(y_test, y_pred)\n",
    "print(\"Akurasi model KNN sebesar : \", score)\n"
   ]
  },
  {
   "cell_type": "markdown",
   "id": "5110e87d",
   "metadata": {},
   "source": [
    "2. D-Tree\n",
    "sumber bacaan : https://scikit-learn.org/stable/modules/generated/sklearn.tree.DecisionTreeClassifier.html#sklearn.tree.DecisionTreeClassifier "
   ]
  },
  {
   "cell_type": "code",
   "execution_count": 8,
   "id": "3528bdaf",
   "metadata": {},
   "outputs": [
    {
     "name": "stdout",
     "output_type": "stream",
     "text": [
      "Akurasi model D-Tree sebesar :  0.9555555555555556\n"
     ]
    }
   ],
   "source": [
    "from sklearn.tree import DecisionTreeClassifier\n",
    "from sklearn import metrics\n",
    "\n",
    "dt = DecisionTreeClassifier(max_depth = None, min_samples_split = 2)\n",
    "dt.fit(x_train, y_train)\n",
    "y_pred = dt.predict(x_test)\n",
    "score = metrics.accuracy_score(y_test, y_pred)\n",
    "print(\"Akurasi model D-Tree sebesar : \", score)"
   ]
  },
  {
   "cell_type": "markdown",
   "id": "b5398919",
   "metadata": {},
   "source": [
    "3. SVM sumber bacaan : https://scikit-learn.org/stable/modules/generated/sklearn.svm.SVC.html"
   ]
  },
  {
   "cell_type": "code",
   "execution_count": 9,
   "id": "7094728a",
   "metadata": {},
   "outputs": [
    {
     "name": "stdout",
     "output_type": "stream",
     "text": [
      "Akurasi model SVM sebesar :  0.9555555555555556\n"
     ]
    }
   ],
   "source": [
    "from sklearn.svm import SVC\n",
    "from sklearn import metrics\n",
    "\n",
    "svm = SVC(kernel='rbf', C=1, gamma = 0.01)\n",
    "svm.fit(x_train, y_train)\n",
    "y_pred = svm.predict(x_test)\n",
    "score = metrics.accuracy_score(y_test, y_pred)\n",
    "print(\"Akurasi model SVM sebesar : \", score)"
   ]
  },
  {
   "cell_type": "markdown",
   "id": "1eef076a",
   "metadata": {},
   "source": [
    "Menggunakan Kernel Linear"
   ]
  },
  {
   "cell_type": "code",
   "execution_count": 10,
   "id": "1f091957",
   "metadata": {},
   "outputs": [
    {
     "name": "stdout",
     "output_type": "stream",
     "text": [
      "Akurasi Model SVM sebesar :  0.9777777777777777\n"
     ]
    }
   ],
   "source": [
    "from sklearn.svm import SVC\n",
    "from sklearn import metrics\n",
    "\n",
    "svmLinear = SVC(kernel='linear', C=1)\n",
    "svmLinear.fit(x_train,y_train)\n",
    "\n",
    "y_pred_svmLinear = svmLinear.predict(x_test)\n",
    "score_svmLinear = metrics.accuracy_score(y_test, y_pred_svmLinear)\n",
    "\n",
    "print(\"Akurasi Model SVM sebesar : \", score_svmLinear)"
   ]
  },
  {
   "cell_type": "markdown",
   "id": "d6390c7a",
   "metadata": {},
   "source": [
    "4. Logistic Regression Sumber bacaan : https://scikit-learn.org/stable/modules/generated/sklearn.linear_model.LogisticRegression.html"
   ]
  },
  {
   "cell_type": "code",
   "execution_count": 11,
   "id": "29f85b7c",
   "metadata": {},
   "outputs": [
    {
     "name": "stdout",
     "output_type": "stream",
     "text": [
      "Akurasi Model LogisticRegression sebesar :  0.9555555555555556\n"
     ]
    }
   ],
   "source": [
    "from sklearn.linear_model import LogisticRegression\n",
    "from sklearn import metrics\n",
    "\n",
    "lgr = LogisticRegression(solver='lbfgs', max_iter=1000)\n",
    "lgr.fit(x_train,y_train)\n",
    "\n",
    "y_pred_lgr = lgr.predict(x_test)\n",
    "score_lgr = metrics.accuracy_score(y_test, y_pred_lgr)\n",
    "\n",
    "print(\"Akurasi Model LogisticRegression sebesar : \", score_lgr)"
   ]
  },
  {
   "cell_type": "markdown",
   "id": "410fb469",
   "metadata": {},
   "source": [
    "5. Naive Bayes \n",
    "Sumber Bacaan : https://scikit-learn.org/stable/modules/generated/sklearn.naive_bayes.BernoulliNB.html#sklearn.naive_bayes.BernoulliNB"
   ]
  },
  {
   "cell_type": "markdown",
   "id": "377f18a6",
   "metadata": {},
   "source": [
    "Menggunakan BernoulliNB"
   ]
  },
  {
   "cell_type": "code",
   "execution_count": 12,
   "id": "89ba3d47",
   "metadata": {},
   "outputs": [
    {
     "name": "stdout",
     "output_type": "stream",
     "text": [
      "Akurasi Model NaiveBayes BernoulliNB sebesar :  0.24444444444444444\n"
     ]
    }
   ],
   "source": [
    "from sklearn.naive_bayes import BernoulliNB\n",
    "from sklearn import metrics\n",
    "\n",
    "nb = BernoulliNB()\n",
    "nb.fit(x_train,y_train)\n",
    "\n",
    "y_pred_nb = nb.predict(x_test)\n",
    "score_nb = metrics.accuracy_score(y_test, y_pred_nb)\n",
    "\n",
    "print(\"Akurasi Model NaiveBayes BernoulliNB sebesar : \", score_nb)"
   ]
  },
  {
   "cell_type": "markdown",
   "id": "f10246cb",
   "metadata": {},
   "source": [
    "Menggunakan GaussianNB"
   ]
  },
  {
   "cell_type": "code",
   "execution_count": 13,
   "id": "68b01cc2",
   "metadata": {},
   "outputs": [
    {
     "name": "stdout",
     "output_type": "stream",
     "text": [
      "Akurasi Model NaiveBayes GaussianNB sebesar :  0.9333333333333333\n"
     ]
    }
   ],
   "source": [
    "from sklearn.naive_bayes import GaussianNB\n",
    "from sklearn import metrics\n",
    "\n",
    "nbG = GaussianNB()\n",
    "nbG.fit(x_train,y_train)\n",
    "\n",
    "y_pred_nbG = nbG.predict(x_test)\n",
    "score_nbG = metrics.accuracy_score(y_test, y_pred_nbG)\n",
    "\n",
    "print(\"Akurasi Model NaiveBayes GaussianNB sebesar : \", score_nbG)"
   ]
  }
 ],
 "metadata": {
  "kernelspec": {
   "display_name": "Python 3 (ipykernel)",
   "language": "python",
   "name": "python3"
  },
  "language_info": {
   "codemirror_mode": {
    "name": "ipython",
    "version": 3
   },
   "file_extension": ".py",
   "mimetype": "text/x-python",
   "name": "python",
   "nbconvert_exporter": "python",
   "pygments_lexer": "ipython3",
   "version": "3.10.2"
  }
 },
 "nbformat": 4,
 "nbformat_minor": 5
}
